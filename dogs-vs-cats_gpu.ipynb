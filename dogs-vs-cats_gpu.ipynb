{
 "cells": [
  {
   "cell_type": "code",
   "execution_count": 1,
   "metadata": {},
   "outputs": [],
   "source": [
    "# Params\n",
    "\n",
    "import os\n",
    "os.environ[\"CUDA_VISIBLE_DEVICES\"]=\"0\"\n",
    "\n",
    "IMGS_ORIGIN = \"./original_imgs/\"\n",
    "DATASET_DIR = \"./dataset/\"\n",
    "TRAIN_DIR = DATASET_DIR + \"train/\"\n",
    "VALIDATION_DIR = DATASET_DIR + \"validation/\"\n",
    "TEST_DIR = DATASET_DIR + \"test/\"\n",
    "TRAIN_DOGS_PATH = DATASET_DIR + \"train/dogs/\"\n",
    "TRAIN_CATS_PATH = DATASET_DIR + \"train/cats/\"\n",
    "VALIDATION_DOGS_PATH = DATASET_DIR + \"validation/dogs/\"\n",
    "VALIDATION_CATS_PATH = DATASET_DIR + \"validation/cats/\"\n",
    "TEST_DOGS_PATH = DATASET_DIR + \"test/dogs/\"\n",
    "TEST_CATS_PATH = DATASET_DIR + \"test/cats/\""
   ]
  },
  {
   "cell_type": "code",
   "execution_count": 6,
   "metadata": {},
   "outputs": [],
   "source": [
    "import os\n",
    "import h5py\n",
    "import matplotlib.pyplot as plt\n",
    "import tensorflow\n",
    "from keras import layers, models, optimizers\n",
    "import keras\n",
    "from keras.preprocessing.image import ImageDataGenerator\n",
    "import glob\n",
    "import shutil"
   ]
  },
  {
   "cell_type": "code",
   "execution_count": 12,
   "metadata": {},
   "outputs": [],
   "source": [
    "# Prepare Dataset\n",
    "\n",
    "\n",
    "for i in range(0,12000):\n",
    "    train_dogs = glob.glob(IMGS_ORIGIN + \"train/dog.\" + str(i) + \".jpg\")\n",
    "    train_cats = glob.glob(IMGS_ORIGIN + \"train/cat.\" + str(i) + \".jpg\")\n",
    "    shutil.copy(train_dogs[0], TRAIN_DOGS_PATH)\n",
    "    shutil.copy(train_cats[0], TRAIN_CATS_PATH)\n",
    "    \n",
    "for i in range(12000,12500):\n",
    "    test_dogs = glob.glob(IMGS_ORIGIN + \"train/dog.\" + str(i) + \".jpg\")\n",
    "    test_cats = glob.glob(IMGS_ORIGIN + \"train/cat.\" + str(i) + \".jpg\")\n",
    "    shutil.copy(test_dogs[0], TEST_DOGS_PATH)\n",
    "    shutil.copy(test_cats[0], TEST_CATS_PATH)\n",
    "\n",
    "for i in range(12000,12500):\n",
    "    test_dogs = glob.glob(IMGS_ORIGIN + \"train/dog.\" + str(i) + \".jpg\")\n",
    "    test_cats = glob.glob(IMGS_ORIGIN + \"train/cat.\" + str(i) + \".jpg\")\n",
    "    shutil.copy(test_dogs[0], VALIDATION_DOGS_PATH)\n",
    "    shutil.copy(test_cats[0], VALIDATION_CATS_PATH)"
   ]
  },
  {
   "cell_type": "code",
   "execution_count": 11,
   "metadata": {},
   "outputs": [
    {
     "name": "stdout",
     "output_type": "stream",
     "text": [
      "26000 images deleted.\n"
     ]
    }
   ],
   "source": [
    "# Cleanup Dataset\n",
    "\n",
    "targets = glob.glob(DATASET_DIR + \"*/*/*.jpg\")\n",
    "for i in targets:\n",
    "    os.remove(i)\n",
    "print(\"{} images deleted.\".format(len(targets)))"
   ]
  },
  {
   "cell_type": "code",
   "execution_count": 13,
   "metadata": {},
   "outputs": [
    {
     "name": "stdout",
     "output_type": "stream",
     "text": [
      "12000 12000 500 500 500 500\n"
     ]
    }
   ],
   "source": [
    "# Verify Dataset\n",
    "\n",
    "train_dogs_imgs = glob.glob(TRAIN_DOGS_PATH + \"*.jpg\")\n",
    "train_cats_imgs = glob.glob(TRAIN_CATS_PATH + \"*.jpg\")\n",
    "validation_dogs_imgs = glob.glob(VALIDATION_DOGS_PATH + \"*.jpg\")\n",
    "validation_cats_imgs = glob.glob(VALIDATION_CATS_PATH + \"*.jpg\")\n",
    "test_dogs_imgs = glob.glob(TEST_DOGS_PATH + \"*.jpg\")\n",
    "test_cats_imgs = glob.glob(TEST_CATS_PATH + \"*.jpg\")\n",
    "print(len(train_dogs_imgs), len(train_cats_imgs), len(validation_dogs_imgs), len(validation_cats_imgs), len(test_dogs_imgs), len(test_cats_imgs),)"
   ]
  },
  {
   "cell_type": "code",
   "execution_count": 14,
   "metadata": {},
   "outputs": [
    {
     "name": "stdout",
     "output_type": "stream",
     "text": [
      "Model: \"sequential_2\"\n",
      "_________________________________________________________________\n",
      "Layer (type)                 Output Shape              Param #   \n",
      "=================================================================\n",
      "conv2d_5 (Conv2D)            (None, 148, 148, 32)      896       \n",
      "_________________________________________________________________\n",
      "max_pooling2d_5 (MaxPooling2 (None, 74, 74, 32)        0         \n",
      "_________________________________________________________________\n",
      "conv2d_6 (Conv2D)            (None, 72, 72, 64)        18496     \n",
      "_________________________________________________________________\n",
      "max_pooling2d_6 (MaxPooling2 (None, 36, 36, 64)        0         \n",
      "_________________________________________________________________\n",
      "conv2d_7 (Conv2D)            (None, 34, 34, 128)       73856     \n",
      "_________________________________________________________________\n",
      "max_pooling2d_7 (MaxPooling2 (None, 17, 17, 128)       0         \n",
      "_________________________________________________________________\n",
      "conv2d_8 (Conv2D)            (None, 15, 15, 128)       147584    \n",
      "_________________________________________________________________\n",
      "max_pooling2d_8 (MaxPooling2 (None, 7, 7, 128)         0         \n",
      "_________________________________________________________________\n",
      "flatten_2 (Flatten)          (None, 6272)              0         \n",
      "_________________________________________________________________\n",
      "dense_3 (Dense)              (None, 512)               3211776   \n",
      "_________________________________________________________________\n",
      "dense_4 (Dense)              (None, 1)                 513       \n",
      "=================================================================\n",
      "Total params: 3,453,121\n",
      "Trainable params: 3,453,121\n",
      "Non-trainable params: 0\n",
      "_________________________________________________________________\n",
      "Found 24000 images belonging to 2 classes.\n",
      "Found 1000 images belonging to 2 classes.\n",
      "{'cats': 0, 'dogs': 1} {'cats': 0, 'dogs': 1}\n",
      "Epoch 1/10\n",
      "600/600 [==============================] - 48s 79ms/step - loss: 0.6377 - acc: 0.6292 - val_loss: 0.7529 - val_acc: 0.7070\n",
      "Epoch 2/10\n",
      "600/600 [==============================] - 46s 77ms/step - loss: 0.5453 - acc: 0.7243 - val_loss: 0.5846 - val_acc: 0.7430\n",
      "Epoch 3/10\n",
      "600/600 [==============================] - 46s 76ms/step - loss: 0.4878 - acc: 0.7628 - val_loss: 0.3957 - val_acc: 0.7860\n",
      "Epoch 4/10\n",
      "600/600 [==============================] - 46s 77ms/step - loss: 0.4625 - acc: 0.7808 - val_loss: 0.4150 - val_acc: 0.7850\n",
      "Epoch 5/10\n",
      "600/600 [==============================] - 46s 77ms/step - loss: 0.4253 - acc: 0.8058 - val_loss: 0.2388 - val_acc: 0.7640\n",
      "Epoch 6/10\n",
      "600/600 [==============================] - 46s 76ms/step - loss: 0.4108 - acc: 0.8120 - val_loss: 0.4418 - val_acc: 0.8250\n",
      "Epoch 7/10\n",
      "600/600 [==============================] - 46s 76ms/step - loss: 0.3836 - acc: 0.8267 - val_loss: 0.2943 - val_acc: 0.8250\n",
      "Epoch 8/10\n",
      "600/600 [==============================] - 44s 73ms/step - loss: 0.3699 - acc: 0.8359 - val_loss: 0.3568 - val_acc: 0.8410\n",
      "Epoch 9/10\n",
      "600/600 [==============================] - 42s 70ms/step - loss: 0.3486 - acc: 0.8470 - val_loss: 0.1071 - val_acc: 0.8510\n",
      "Epoch 10/10\n",
      "600/600 [==============================] - 42s 70ms/step - loss: 0.3276 - acc: 0.8591 - val_loss: 0.4569 - val_acc: 0.8470\n"
     ]
    },
    {
     "data": {
      "image/png": "[encoded data removed]",
      "text/plain": [
       "<Figure size 432x288 with 1 Axes>"
      ]
     },
     "metadata": {
      "needs_background": "light"
     },
     "output_type": "display_data"
    },
    {
     "data": {
      "image/png": "[encoded data removed]",
      "text/plain": [
       "<Figure size 432x288 with 1 Axes>"
      ]
     },
     "metadata": {
      "needs_background": "light"
     },
     "output_type": "display_data"
    }
   ],
   "source": [
    "# Learn\n",
    "\n",
    "def construct_model():\n",
    "    model = models.Sequential()\n",
    "    model.add(layers.Conv2D(32,(3,3),activation=\"relu\",input_shape=(150,150,3)))\n",
    "    model.add(layers.MaxPooling2D((2,2)))\n",
    "\n",
    "    model.add(layers.Conv2D(64,(3,3),activation=\"relu\"))\n",
    "    model.add(layers.MaxPooling2D((2,2)))\n",
    "\n",
    "    model.add(layers.Conv2D(128,(3,3),activation=\"relu\"))\n",
    "    model.add(layers.MaxPooling2D((2,2)))\n",
    "\n",
    "    model.add(layers.Conv2D(128,(3,3),activation=\"relu\"))\n",
    "    model.add(layers.MaxPooling2D((2,2)))\n",
    "\n",
    "    model.add(layers.Flatten())\n",
    "\n",
    "    model.add(layers.Dense(512,activation=\"relu\"))\n",
    "    model.add(layers.Dense(1,activation=\"sigmoid\"))\n",
    "\n",
    "    model.summary()\n",
    "\n",
    "    model.compile(loss=\"binary_crossentropy\",\n",
    "             optimizer=optimizers.RMSprop(lr=1e-4),\n",
    "             metrics=[\"acc\"])\n",
    "    preprocess_imgs(model)\n",
    "\n",
    "\n",
    "def preprocess_imgs(model):\n",
    "    train_datagen = ImageDataGenerator(rescale=1./255)\n",
    "    validation_datagen = ImageDataGenerator(rescale=1./255)\n",
    "    train_generator = train_datagen.flow_from_directory(\n",
    "        TRAIN_DIR,\n",
    "        target_size=(150,150),\n",
    "        batch_size=20,\n",
    "        class_mode=\"binary\"\n",
    "    )\n",
    "    validation_generator = validation_datagen.flow_from_directory(\n",
    "        VALIDATION_DIR,\n",
    "        target_size=(150,150),\n",
    "        batch_size=20,\n",
    "        class_mode=\"binary\"\n",
    "    )\n",
    "    print(train_generator.class_indices, validation_generator.class_indices)\n",
    "    learn(model, train_generator, validation_generator)\n",
    "\n",
    "\n",
    "def learn(model, train_generator, validation_generator):\n",
    "    history = model.fit_generator(train_generator,\n",
    "                                  steps_per_epoch=600,\n",
    "                                  epochs=10,\n",
    "                                  validation_data=validation_generator,\n",
    "                                  validation_steps=500)\n",
    "    model.save('./dogorcat.h5')\n",
    "    show_result(history)\n",
    "\n",
    "\n",
    "def show_result(history):\n",
    "    acc = history.history[\"acc\"]\n",
    "    val_acc = history.history[\"val_acc\"]\n",
    "    loss = history.history[\"loss\"]\n",
    "    val_loss = history.history[\"val_loss\"]\n",
    "\n",
    "    epochs = range(1,len(acc) + 1)\n",
    "\n",
    "    plt.plot(epochs, acc,\"bo\",label=\"Training Acc\")\n",
    "    plt.plot(epochs, val_acc,\"b\",label=\"Validation Acc\")\n",
    "    plt.legend()\n",
    "\n",
    "    plt.figure()\n",
    "\n",
    "    plt.plot(epochs,loss,\"bo\",label=\"Training Loss\")\n",
    "    plt.plot(epochs,val_loss,\"b\",label=\"Validation Loss\")\n",
    "    plt.legend()\n",
    "\n",
    "    plt.show()\n",
    "\n",
    "\n",
    "if __name__ == \"__main__\":\n",
    "    construct_model()"
   ]
  },
  {
   "cell_type": "code",
   "execution_count": 15,
   "metadata": {
    "scrolled": false
   },
   "outputs": [
    {
     "name": "stdout",
     "output_type": "stream",
     "text": [
      "Found 1000 images belonging to 2 classes.\n"
     ]
    },
    {
     "data": {
      "text/plain": [
       "50"
      ]
     },
     "execution_count": 15,
     "metadata": {},
     "output_type": "execute_result"
    }
   ],
   "source": [
    "# Test,Evalute\n",
    "\n",
    "model = keras.models.load_model('./dogorcat.h5', compile = False)\n",
    "test_datagen = ImageDataGenerator(rescale=1./255)\n",
    "test_generator = test_datagen.flow_from_directory(\n",
    "    TEST_DIR,\n",
    "    target_size=(150,150),\n",
    "    batch_size=20,\n",
    "    class_mode=\"binary\"\n",
    ")\n",
    "test_generator[0]"
   ]
  },
  {
   "cell_type": "code",
   "execution_count": 3,
   "metadata": {},
   "outputs": [
    {
     "data": {
      "text/plain": [
       "[name: \"/device:CPU:0\"\n",
       " device_type: \"CPU\"\n",
       " memory_limit: 268435456\n",
       " locality {\n",
       " }\n",
       " incarnation: 17474936802977881624,\n",
       " name: \"/device:XLA_CPU:0\"\n",
       " device_type: \"XLA_CPU\"\n",
       " memory_limit: 17179869184\n",
       " locality {\n",
       " }\n",
       " incarnation: 18079156596494614728\n",
       " physical_device_desc: \"device: XLA_CPU device\",\n",
       " name: \"/device:GPU:0\"\n",
       " device_type: \"GPU\"\n",
       " memory_limit: 7665726260\n",
       " locality {\n",
       "   bus_id: 1\n",
       "   links {\n",
       "   }\n",
       " }\n",
       " incarnation: 5950110877717689720\n",
       " physical_device_desc: \"device: 0, name: GeForce GTX 1080, pci bus id: 0000:65:00.0, compute capability: 6.1\",\n",
       " name: \"/device:XLA_GPU:0\"\n",
       " device_type: \"XLA_GPU\"\n",
       " memory_limit: 17179869184\n",
       " locality {\n",
       " }\n",
       " incarnation: 10052552573686598685\n",
       " physical_device_desc: \"device: XLA_GPU device\"]"
      ]
     },
     "execution_count": 3,
     "metadata": {},
     "output_type": "execute_result"
    }
   ],
   "source": [
    "# GPU Verify\n",
    "\n",
    "from tensorflow.python.client import device_lib\n",
    "device_lib.list_local_devices()"
   ]
  },
  {
   "cell_type": "code",
   "execution_count": null,
   "metadata": {},
   "outputs": [],
   "source": []
  },
  {
   "cell_type": "code",
   "execution_count": null,
   "metadata": {},
   "outputs": [],
   "source": []
  }
 ],
 "metadata": {
  "kernelspec": {
   "display_name": "TensorFlow-GPU",
   "language": "python",
   "name": "tf-gpu"
  },
  "language_info": {
   "codemirror_mode": {
    "name": "ipython",
    "version": 3
   },
   "file_extension": ".py",
   "mimetype": "text/x-python",
   "name": "python",
   "nbconvert_exporter": "python",
   "pygments_lexer": "ipython3",
   "version": "3.6.10"
  }
 },
 "nbformat": 4,
 "nbformat_minor": 2
}
